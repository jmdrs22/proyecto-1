{
  "nbformat": 4,
  "nbformat_minor": 0,
  "metadata": {
    "colab": {
      "provenance": []
    },
    "kernelspec": {
      "name": "python3",
      "display_name": "Python 3"
    },
    "language_info": {
      "name": "python"
    }
  },
  "cells": [
    {
      "cell_type": "code",
      "source": [
        "import tensorflow as tf, numpy as np, random\n",
        "print(\"TF:\", tf.__version__, \"| NumPy:\", np.__version__)\n",
        "\n"
      ],
      "metadata": {
        "colab": {
          "base_uri": "https://localhost:8080/"
        },
        "id": "8ZtsikuXHC53",
        "outputId": "9116f7b1-63d2-4f7c-db2c-d9467de7eba0"
      },
      "execution_count": 3,
      "outputs": [
        {
          "output_type": "stream",
          "name": "stdout",
          "text": [
            "TF: 2.19.0 | NumPy: 2.0.2\n"
          ]
        }
      ]
    },
    {
      "cell_type": "code",
      "source": [
        "# 1) Sube tu ZIP desde tu computadora (se abre un selector de archivos)\n",
        "from google.colab import files\n",
        "up = files.upload()  # selecciona tu \"postres.zip\" (o similar)\n",
        "\n",
        "import os, glob, zipfile, shutil, pathlib\n",
        "\n",
        "# 2) Detecta el ZIP que subiste\n",
        "zip_files = [n for n in up.keys() if n.lower().endswith(\".zip\")]\n",
        "assert zip_files, \"No subiste ningún .zip\"\n",
        "zip_name = zip_files[0]\n",
        "print(\"ZIP recibido:\", zip_name)\n",
        "\n",
        "# 3) Descomprime en /content\n",
        "extract_dir = \"/content\"\n",
        "with zipfile.ZipFile(zip_name, \"r\") as zf:\n",
        "    zf.extractall(extract_dir)\n",
        "\n",
        "# 4) Busca la carpeta extraída que contenga tus clases y renómbrala a /content/postres\n",
        "candidates = [p for p in glob.glob(\"/content/*\") if os.path.isdir(p)]\n",
        "ROOT = None\n",
        "for cand in candidates:\n",
        "    subs = [d.lower() for d in os.listdir(cand) if os.path.isdir(os.path.join(cand, d))]\n",
        "    if any(s in subs for s in [\"churros\",\"donas\",\"donuts\"]) and \"waffles\" in subs:\n",
        "        ROOT = cand\n",
        "        break\n",
        "\n",
        "if ROOT is None:\n",
        "    raise RuntimeError(\"No encontré una carpeta con subcarpetas 'churros', 'donas/donuts' y 'waffles'. Revisa el ZIP.\")\n",
        "\n",
        "# Si no se llama exactamente /content/postres, renómbrala\n",
        "if ROOT != \"/content/postres\":\n",
        "    if os.path.isdir(\"/content/postres\"):\n",
        "        shutil.rmtree(\"/content/postres\")\n",
        "    shutil.move(ROOT, \"/content/postres\")\n",
        "ROOT = \"/content/postres\"\n",
        "\n",
        "# 5) Verifica estructura y conteo de imágenes\n",
        "print(\"ROOT =\", ROOT)\n",
        "!find \"/content/postres\" -maxdepth 2 -type d | sort\n",
        "\n",
        "import glob\n",
        "EXTS = {\".jpg\",\".jpeg\",\".png\",\".webp\",\".jfif\"}\n",
        "for cls in [\"churros\",\"donas\",\"donuts\",\"waffles\"]:\n",
        "    p = os.path.join(ROOT, cls)\n",
        "    if os.path.isdir(p):\n",
        "        imgs = [q for q in glob.glob(os.path.join(p, \"**\", \"*\"), recursive=True)\n",
        "                if os.path.isfile(q) and pathlib.Path(q).suffix.lower() in EXTS]\n",
        "        print(f\"{cls}: {len(imgs)} imágenes\")\n"
      ],
      "metadata": {
        "colab": {
          "base_uri": "https://localhost:8080/",
          "height": 229
        },
        "id": "njOXI1zTIW9c",
        "outputId": "fa49b4df-4719-4ea6-a1f9-b57a12272096"
      },
      "execution_count": 5,
      "outputs": [
        {
          "output_type": "display_data",
          "data": {
            "text/plain": [
              "<IPython.core.display.HTML object>"
            ],
            "text/html": [
              "\n",
              "     <input type=\"file\" id=\"files-29e3f376-706e-422b-80f4-337615fca2f2\" name=\"files[]\" multiple disabled\n",
              "        style=\"border:none\" />\n",
              "     <output id=\"result-29e3f376-706e-422b-80f4-337615fca2f2\">\n",
              "      Upload widget is only available when the cell has been executed in the\n",
              "      current browser session. Please rerun this cell to enable.\n",
              "      </output>\n",
              "      <script>// Copyright 2017 Google LLC\n",
              "//\n",
              "// Licensed under the Apache License, Version 2.0 (the \"License\");\n",
              "// you may not use this file except in compliance with the License.\n",
              "// You may obtain a copy of the License at\n",
              "//\n",
              "//      http://www.apache.org/licenses/LICENSE-2.0\n",
              "//\n",
              "// Unless required by applicable law or agreed to in writing, software\n",
              "// distributed under the License is distributed on an \"AS IS\" BASIS,\n",
              "// WITHOUT WARRANTIES OR CONDITIONS OF ANY KIND, either express or implied.\n",
              "// See the License for the specific language governing permissions and\n",
              "// limitations under the License.\n",
              "\n",
              "/**\n",
              " * @fileoverview Helpers for google.colab Python module.\n",
              " */\n",
              "(function(scope) {\n",
              "function span(text, styleAttributes = {}) {\n",
              "  const element = document.createElement('span');\n",
              "  element.textContent = text;\n",
              "  for (const key of Object.keys(styleAttributes)) {\n",
              "    element.style[key] = styleAttributes[key];\n",
              "  }\n",
              "  return element;\n",
              "}\n",
              "\n",
              "// Max number of bytes which will be uploaded at a time.\n",
              "const MAX_PAYLOAD_SIZE = 100 * 1024;\n",
              "\n",
              "function _uploadFiles(inputId, outputId) {\n",
              "  const steps = uploadFilesStep(inputId, outputId);\n",
              "  const outputElement = document.getElementById(outputId);\n",
              "  // Cache steps on the outputElement to make it available for the next call\n",
              "  // to uploadFilesContinue from Python.\n",
              "  outputElement.steps = steps;\n",
              "\n",
              "  return _uploadFilesContinue(outputId);\n",
              "}\n",
              "\n",
              "// This is roughly an async generator (not supported in the browser yet),\n",
              "// where there are multiple asynchronous steps and the Python side is going\n",
              "// to poll for completion of each step.\n",
              "// This uses a Promise to block the python side on completion of each step,\n",
              "// then passes the result of the previous step as the input to the next step.\n",
              "function _uploadFilesContinue(outputId) {\n",
              "  const outputElement = document.getElementById(outputId);\n",
              "  const steps = outputElement.steps;\n",
              "\n",
              "  const next = steps.next(outputElement.lastPromiseValue);\n",
              "  return Promise.resolve(next.value.promise).then((value) => {\n",
              "    // Cache the last promise value to make it available to the next\n",
              "    // step of the generator.\n",
              "    outputElement.lastPromiseValue = value;\n",
              "    return next.value.response;\n",
              "  });\n",
              "}\n",
              "\n",
              "/**\n",
              " * Generator function which is called between each async step of the upload\n",
              " * process.\n",
              " * @param {string} inputId Element ID of the input file picker element.\n",
              " * @param {string} outputId Element ID of the output display.\n",
              " * @return {!Iterable<!Object>} Iterable of next steps.\n",
              " */\n",
              "function* uploadFilesStep(inputId, outputId) {\n",
              "  const inputElement = document.getElementById(inputId);\n",
              "  inputElement.disabled = false;\n",
              "\n",
              "  const outputElement = document.getElementById(outputId);\n",
              "  outputElement.innerHTML = '';\n",
              "\n",
              "  const pickedPromise = new Promise((resolve) => {\n",
              "    inputElement.addEventListener('change', (e) => {\n",
              "      resolve(e.target.files);\n",
              "    });\n",
              "  });\n",
              "\n",
              "  const cancel = document.createElement('button');\n",
              "  inputElement.parentElement.appendChild(cancel);\n",
              "  cancel.textContent = 'Cancel upload';\n",
              "  const cancelPromise = new Promise((resolve) => {\n",
              "    cancel.onclick = () => {\n",
              "      resolve(null);\n",
              "    };\n",
              "  });\n",
              "\n",
              "  // Wait for the user to pick the files.\n",
              "  const files = yield {\n",
              "    promise: Promise.race([pickedPromise, cancelPromise]),\n",
              "    response: {\n",
              "      action: 'starting',\n",
              "    }\n",
              "  };\n",
              "\n",
              "  cancel.remove();\n",
              "\n",
              "  // Disable the input element since further picks are not allowed.\n",
              "  inputElement.disabled = true;\n",
              "\n",
              "  if (!files) {\n",
              "    return {\n",
              "      response: {\n",
              "        action: 'complete',\n",
              "      }\n",
              "    };\n",
              "  }\n",
              "\n",
              "  for (const file of files) {\n",
              "    const li = document.createElement('li');\n",
              "    li.append(span(file.name, {fontWeight: 'bold'}));\n",
              "    li.append(span(\n",
              "        `(${file.type || 'n/a'}) - ${file.size} bytes, ` +\n",
              "        `last modified: ${\n",
              "            file.lastModifiedDate ? file.lastModifiedDate.toLocaleDateString() :\n",
              "                                    'n/a'} - `));\n",
              "    const percent = span('0% done');\n",
              "    li.appendChild(percent);\n",
              "\n",
              "    outputElement.appendChild(li);\n",
              "\n",
              "    const fileDataPromise = new Promise((resolve) => {\n",
              "      const reader = new FileReader();\n",
              "      reader.onload = (e) => {\n",
              "        resolve(e.target.result);\n",
              "      };\n",
              "      reader.readAsArrayBuffer(file);\n",
              "    });\n",
              "    // Wait for the data to be ready.\n",
              "    let fileData = yield {\n",
              "      promise: fileDataPromise,\n",
              "      response: {\n",
              "        action: 'continue',\n",
              "      }\n",
              "    };\n",
              "\n",
              "    // Use a chunked sending to avoid message size limits. See b/62115660.\n",
              "    let position = 0;\n",
              "    do {\n",
              "      const length = Math.min(fileData.byteLength - position, MAX_PAYLOAD_SIZE);\n",
              "      const chunk = new Uint8Array(fileData, position, length);\n",
              "      position += length;\n",
              "\n",
              "      const base64 = btoa(String.fromCharCode.apply(null, chunk));\n",
              "      yield {\n",
              "        response: {\n",
              "          action: 'append',\n",
              "          file: file.name,\n",
              "          data: base64,\n",
              "        },\n",
              "      };\n",
              "\n",
              "      let percentDone = fileData.byteLength === 0 ?\n",
              "          100 :\n",
              "          Math.round((position / fileData.byteLength) * 100);\n",
              "      percent.textContent = `${percentDone}% done`;\n",
              "\n",
              "    } while (position < fileData.byteLength);\n",
              "  }\n",
              "\n",
              "  // All done.\n",
              "  yield {\n",
              "    response: {\n",
              "      action: 'complete',\n",
              "    }\n",
              "  };\n",
              "}\n",
              "\n",
              "scope.google = scope.google || {};\n",
              "scope.google.colab = scope.google.colab || {};\n",
              "scope.google.colab._files = {\n",
              "  _uploadFiles,\n",
              "  _uploadFilesContinue,\n",
              "};\n",
              "})(self);\n",
              "</script> "
            ]
          },
          "metadata": {}
        },
        {
          "output_type": "stream",
          "name": "stdout",
          "text": [
            "Saving postres 1.zip to postres 1.zip\n",
            "ZIP recibido: postres 1.zip\n",
            "ROOT = /content/postres\n",
            "/content/postres\n",
            "/content/postres/churros\n",
            "/content/postres/donuts\n",
            "/content/postres/waffles\n",
            "churros: 1000 imágenes\n",
            "donuts: 1000 imágenes\n",
            "waffles: 1000 imágenes\n"
          ]
        }
      ]
    },
    {
      "cell_type": "code",
      "source": [
        "ROOT = \"/content/postres\""
      ],
      "metadata": {
        "id": "fhQYhr7xKsZn"
      },
      "execution_count": 6,
      "outputs": []
    },
    {
      "cell_type": "code",
      "source": [
        "# PASO 1 — AJUSTA ESTA RUTA:\n",
        "ROOT = \"/content/postres\"  # ej. \"/content/drive/MyDrive/postres\" si está en Drive\n",
        "\n",
        "import os, glob\n",
        "print(\"ROOT =\", ROOT)\n",
        "\n",
        "print(\"\\nSubcarpetas encontradas:\")\n",
        "for d in sorted([p for p in glob.glob(os.path.join(ROOT, \"*\")) if os.path.isdir(p)]):\n",
        "    print(\" -\", os.path.basename(d))\n",
        "\n",
        "# Conteo de imágenes por clase (jpg/jpeg/png)\n",
        "exts = (\".jpg\",\".jpeg\",\".png\")\n",
        "for cls in [\"churros\",\"donuts\",\"waffles\"]:\n",
        "    files = [p for p in glob.glob(os.path.join(ROOT, cls, \"*\")) if p.lower().endswith(exts)]\n",
        "    print(f\"{cls}: {len(files)} imágenes\")\n",
        "\n"
      ],
      "metadata": {
        "colab": {
          "base_uri": "https://localhost:8080/"
        },
        "id": "SUkZyP9qLGSM",
        "outputId": "01a54367-99fa-4111-ee94-1663087abb7d"
      },
      "execution_count": 7,
      "outputs": [
        {
          "output_type": "stream",
          "name": "stdout",
          "text": [
            "ROOT = /content/postres\n",
            "\n",
            "Subcarpetas encontradas:\n",
            " - churros\n",
            " - donuts\n",
            " - waffles\n",
            "churros: 1000 imágenes\n",
            "donuts: 1000 imágenes\n",
            "waffles: 1000 imágenes\n"
          ]
        }
      ]
    },
    {
      "cell_type": "markdown",
      "source": [
        "**PASO 2: crea los splits (70% train / 15% val / 15% test)**"
      ],
      "metadata": {
        "id": "PbHJ_KPVOpa2"
      }
    },
    {
      "cell_type": "code",
      "source": [
        "import os, glob, math, random, shutil, json, pathlib"
      ],
      "metadata": {
        "id": "6xz3XK98Meza"
      },
      "execution_count": 8,
      "outputs": []
    },
    {
      "cell_type": "code",
      "source": [
        "assert 'ROOT' in globals(), \"/content/postres\"\n",
        "\n",
        "CLASSES = [\"churros\", \"donuts\", \"waffles\"]\n",
        "DST = \"/content/postres_split\"\n",
        "SPLITS = {\"train\":0.70, \"val\":0.15, \"test\":0.15}\n",
        "EXTS = {\".jpg\",\".jpeg\",\".png\",\".jfif\",\".webp\"}  # admite varias extensiones\n",
        "random.seed(42)\n"
      ],
      "metadata": {
        "id": "my_WOttEMpiS"
      },
      "execution_count": 9,
      "outputs": []
    },
    {
      "cell_type": "code",
      "source": [
        "# Limpia destino si ya existía (para no duplicar)\n",
        "if os.path.exists(DST):\n",
        "    shutil.rmtree(DST)\n",
        "for s in SPLITS:\n",
        "    for c in CLASSES:\n",
        "        os.makedirs(f\"{DST}/{s}/{c}\", exist_ok=True)\n"
      ],
      "metadata": {
        "id": "vVo5kRWAM9t6"
      },
      "execution_count": 10,
      "outputs": []
    },
    {
      "cell_type": "code",
      "source": [
        "# Recolecta, baraja y distribuye por clase\n",
        "def gather_images(cls_dir):\n",
        "    files = []\n",
        "    for p in glob.glob(os.path.join(cls_dir, \"**\", \"*\"), recursive=True):\n",
        "        if os.path.isfile(p) and pathlib.Path(p).suffix.lower() in EXTS:\n",
        "            files.append(p)\n",
        "    return files\n",
        "\n",
        "summary = {}\n",
        "for c in CLASSES:\n",
        "    src_dir = os.path.join(ROOT, c)\n",
        "    imgs = gather_images(src_dir)\n",
        "    random.shuffle(imgs)\n",
        "    n = len(imgs)\n",
        "    n_tr = math.floor(SPLITS[\"train\"]*n)\n",
        "    n_va = math.floor(SPLITS[\"val\"]*n)\n",
        "    parts = {\n",
        "        \"train\": imgs[:n_tr],\n",
        "        \"val\":   imgs[n_tr:n_tr+n_va],\n",
        "        \"test\":  imgs[n_tr+n_va:],\n",
        "    }\n",
        "    for split, lst in parts.items():\n",
        "        for src in lst:\n",
        "            dst = f\"{DST}/{split}/{c}/{os.path.basename(src)}\"\n",
        "            shutil.copy(src, dst)\n",
        "    summary[c] = {k: len(v) for k, v in parts.items()}"
      ],
      "metadata": {
        "id": "xMjyuOFqNAry"
      },
      "execution_count": 11,
      "outputs": []
    },
    {
      "cell_type": "code",
      "source": [
        "# Guarda las clases para la app web\n",
        "os.makedirs(\"models\", exist_ok=True)\n",
        "with open(\"models/class_names.json\",\"w\") as f:\n",
        "    json.dump(CLASSES, f)\n",
        "\n",
        "print(\"Resumen por clase (archivos copiados):\")\n",
        "for c in CLASSES:\n",
        "    print(f\"  {c:8s} -> train: {summary[c]['train']:4d} | val: {summary[c]['val']:4d} | test: {summary[c]['test']:4d}\")\n",
        "\n",
        "print(\"\\nRuta destino:\", DST)"
      ],
      "metadata": {
        "colab": {
          "base_uri": "https://localhost:8080/"
        },
        "id": "eFoEAjzjNEjp",
        "outputId": "0ee65aee-8fcf-4a13-9364-9f471db9afb3"
      },
      "execution_count": 12,
      "outputs": [
        {
          "output_type": "stream",
          "name": "stdout",
          "text": [
            "Resumen por clase (archivos copiados):\n",
            "  churros  -> train:  700 | val:  150 | test:  150\n",
            "  donuts   -> train:  700 | val:  150 | test:  150\n",
            "  waffles  -> train:  700 | val:  150 | test:  150\n",
            "\n",
            "Ruta destino: /content/postres_split\n"
          ]
        }
      ]
    },
    {
      "cell_type": "markdown",
      "source": [
        "**Paso 3: data loaders + augmentación**"
      ],
      "metadata": {
        "id": "DOFEsdPXNpv2"
      }
    },
    {
      "cell_type": "code",
      "source": [
        "import tensorflow as tf, numpy as np\n",
        "print(\"TF:\", tf.__version__, \"| NumPy:\", np.__version__)\n"
      ],
      "metadata": {
        "colab": {
          "base_uri": "https://localhost:8080/"
        },
        "id": "x7Rp-yqTPDai",
        "outputId": "fb34daaa-7e8f-42ab-e539-3b9723e07c5b"
      },
      "execution_count": 13,
      "outputs": [
        {
          "output_type": "stream",
          "name": "stdout",
          "text": [
            "TF: 2.19.0 | NumPy: 2.0.2\n"
          ]
        }
      ]
    },
    {
      "cell_type": "code",
      "source": [
        "# PASO 3 — Cargar train/val/test desde carpetas y aplicar augmentación\n",
        "import tensorflow as tf\n",
        "from tensorflow import keras\n",
        "from tensorflow.keras import layers"
      ],
      "metadata": {
        "id": "_7yxOcpxN5PM"
      },
      "execution_count": 14,
      "outputs": []
    },
    {
      "cell_type": "code",
      "source": [
        "# Cargadores desde las carpetas creadas en el PASO 2\n",
        "IMG, BATCH = 224, 32\n",
        "image_ds = tf.keras.utils.image_dataset_from_directory\n",
        "\n",
        "train_ds = image_ds(\n",
        "    \"/content/postres_split/train\",\n",
        "    image_size=(IMG, IMG),\n",
        "    batch_size=BATCH,\n",
        "    label_mode=\"categorical\",\n",
        "    shuffle=True,\n",
        ")\n",
        "\n",
        "val_ds = image_ds(\n",
        "    \"/content/postres_split/val\",\n",
        "    image_size=(IMG, IMG),\n",
        "    batch_size=BATCH,\n",
        "    label_mode=\"categorical\",\n",
        "    shuffle=False,\n",
        ")\n",
        "\n",
        "test_ds = image_ds(\n",
        "    \"/content/postres_split/test\",\n",
        "    image_size=(IMG, IMG),\n",
        "    batch_size=BATCH,\n",
        "    label_mode=\"categorical\",\n",
        "    shuffle=False,\n",
        ")"
      ],
      "metadata": {
        "colab": {
          "base_uri": "https://localhost:8080/"
        },
        "id": "NwTcgNgjSPnw",
        "outputId": "f5c938de-d15f-45f1-9d6f-f491fe2e6bd3"
      },
      "execution_count": 15,
      "outputs": [
        {
          "output_type": "stream",
          "name": "stdout",
          "text": [
            "Found 2100 files belonging to 3 classes.\n",
            "Found 450 files belonging to 3 classes.\n",
            "Found 450 files belonging to 3 classes.\n"
          ]
        }
      ]
    },
    {
      "cell_type": "code",
      "source": [
        "import sys, platform, importlib\n",
        "\n",
        "print(\"Python:\", sys.version)\n",
        "try:\n",
        "    import numpy as np\n",
        "    print(\"NumPy:\", np.__version__)\n",
        "except Exception as e:\n",
        "    print(\"NumPy import ERROR:\", repr(e))\n",
        "\n",
        "try:\n",
        "    import tensorflow as tf\n",
        "    print(\"TensorFlow:\", tf.__version__)\n",
        "    print(\"GPU visible:\", tf.config.list_physical_devices('GPU'))\n",
        "    # intenta cargar tf.keras\n",
        "    from tensorflow import keras\n",
        "    print(\"tf.keras OK\")\n",
        "    # prueba micro-modelo\n",
        "    i = keras.Input((32,32,3))\n",
        "    x = keras.layers.Conv2D(4,3,activation=\"relu\")(i)\n",
        "    o = keras.layers.GlobalAveragePooling2D()(x)\n",
        "    m = keras.Model(i,o)\n",
        "    m.compile(optimizer=\"adam\", loss=\"mse\")\n",
        "    import numpy as np\n",
        "    x = np.random.rand(2,32,32,3).astype(\"float32\")\n",
        "    y = np.random.rand(2,4).astype(\"float32\")\n",
        "    m.fit(x,y,epochs=1,verbose=0)\n",
        "    print(\"Mini-train OK ✅\")\n",
        "except Exception as e:\n",
        "    print(\"TensorFlow / tf.keras ERROR:\", repr(e))\n"
      ],
      "metadata": {
        "colab": {
          "base_uri": "https://localhost:8080/"
        },
        "id": "va_0K7sgXZ-R",
        "outputId": "7390e32e-3f60-4f7f-8fa6-874422ebb8a0"
      },
      "execution_count": 16,
      "outputs": [
        {
          "output_type": "stream",
          "name": "stdout",
          "text": [
            "Python: 3.11.13 (main, Jun  4 2025, 08:57:29) [GCC 11.4.0]\n",
            "NumPy: 2.0.2\n",
            "TensorFlow: 2.19.0\n",
            "GPU visible: []\n",
            "tf.keras OK\n",
            "Mini-train OK ✅\n"
          ]
        }
      ]
    },
    {
      "cell_type": "code",
      "source": [
        "# PASO 3 — Loaders + augmentación (TF 2.19, corregido)\n",
        "\n",
        "import os, json\n",
        "import tensorflow as tf\n",
        "from tensorflow import keras\n",
        "from tensorflow.keras import layers\n",
        "\n",
        "# Ruta donde se creo los splits en el PASO 2 (debe contener train/, val/, test/)\n",
        "BASE = \"/content/postres_split\"\n",
        "assert os.path.isdir(BASE), f\"No existe {BASE}. Repite el paso de splits.\"\n",
        "\n",
        "# Parámetros\n",
        "IMG, BATCH = 224, 32\n",
        "image_ds = tf.keras.utils.image_dataset_from_directory\n",
        "\n",
        "# 1) Cargar datasets crudos\n",
        "train_raw = image_ds(f\"{BASE}/train\", image_size=(IMG, IMG), batch_size=BATCH,\n",
        "                     label_mode=\"categorical\", shuffle=True)\n",
        "val_raw   = image_ds(f\"{BASE}/val\",   image_size=(IMG, IMG), batch_size=BATCH,\n",
        "                     label_mode=\"categorical\", shuffle=False)\n",
        "test_raw  = image_ds(f\"{BASE}/test\",  image_size=(IMG, IMG), batch_size=BATCH,\n",
        "                     label_mode=\"categorical\", shuffle=False)\n",
        "\n",
        "# 2) Clases ANTES de map/prefetch\n",
        "class_names = list(train_raw.class_names)  # p.ej. ['churros','donuts','waffles']\n",
        "num_classes = len(class_names)\n",
        "print(\"Clases detectadas:\", class_names, \"| num_classes:\", num_classes)\n",
        "\n",
        "# Guarda nombres de clase para la app web\n",
        "os.makedirs(\"models\", exist_ok=True)\n",
        "with open(\"models/class_names.json\", \"w\") as f:\n",
        "    json.dump(class_names, f)\n",
        "\n",
        "# 3) Augmentación\n",
        "data_aug = keras.Sequential([\n",
        "    layers.RandomFlip(\"horizontal\"),\n",
        "    layers.RandomRotation(0.1),\n",
        "    layers.RandomZoom(0.1),\n",
        "], name=\"data_aug\")\n",
        "\n",
        "# 4) Map + Prefetch (nota: en Keras 3/TF 2.19 usa training=True como keyword)\n",
        "AUTO = tf.data.AUTOTUNE\n",
        "train_ds = train_raw.map(lambda x, y: (data_aug(x, training=True), y),\n",
        "                         num_parallel_calls=AUTO).prefetch(AUTO)\n",
        "val_ds   = val_raw.prefetch(AUTO)\n",
        "test_ds  = test_raw.prefetch(AUTO)\n",
        "\n",
        "# 5) Comprobación rápida de shapes\n",
        "xb, yb = next(iter(train_raw))\n",
        "print(\"Batch X:\", xb.shape, \"| Batch y:\", yb.shape)\n"
      ],
      "metadata": {
        "colab": {
          "base_uri": "https://localhost:8080/"
        },
        "id": "IowdbeJ-YnL_",
        "outputId": "ee14f2dd-392b-449a-f8f8-8e46f8363614"
      },
      "execution_count": 17,
      "outputs": [
        {
          "output_type": "stream",
          "name": "stdout",
          "text": [
            "Found 2100 files belonging to 3 classes.\n",
            "Found 450 files belonging to 3 classes.\n",
            "Found 450 files belonging to 3 classes.\n",
            "Clases detectadas: ['churros', 'donuts', 'waffles'] | num_classes: 3\n",
            "Batch X: (32, 224, 224, 3) | Batch y: (32, 3)\n"
          ]
        }
      ]
    },
    {
      "cell_type": "markdown",
      "source": [
        "**PASO 4 — Entrenar el modelo baseline (SmallCNN)**"
      ],
      "metadata": {
        "id": "bfy3huoeY6KR"
      }
    },
    {
      "cell_type": "code",
      "source": [
        "# =========================\n",
        "# SmallCNN \"Pro\" — ENTRENAMIENTO COMPLETO (TF 2.19)\n",
        "# =========================\n",
        "# - Lee train/val/test desde carpetas\n",
        "# - Augmentación\n",
        "# - SmallCNNv2 (conv+BN+ReLU, GAP, Dropout)\n",
        "# - AdamW + CosineDecay PARA 20 ÉPOCAS\n",
        "# - EarlyStopping + ModelCheckpoint\n",
        "# - Opción de ACELERAR con steps_per_epoch (sin sesgar validación/test)\n",
        "# =========================\n",
        "\n",
        "import os, json\n",
        "import tensorflow as tf\n",
        "from tensorflow import keras\n",
        "from tensorflow.keras import layers\n",
        "\n",
        "# ---------- RUTAS Y PARÁMETROS BÁSICOS ----------\n",
        "BASE = \"/content/postres_split\"   # <-- CAMBIA si tus splits están en otra ruta\n",
        "assert os.path.isdir(BASE), f\"No existe {BASE}. Repite el paso de splits.\"\n",
        "\n",
        "# Tamaño y batch (si te falta VRAM, baja BATCH o usa IMG=160 y re-ejecuta)\n",
        "IMG   = 224\n",
        "BATCH = 32\n",
        "\n",
        "# Aceleración: recorta los batches por época (mantiene evaluación completa)\n",
        "EPOCHS = 20\n",
        "USE_ACCELERATION      = False   # ← pon True si quieres acelerar\n",
        "ACC_STEPS_PER_EPOCH   = 40      # ← n° de batches por época si USE_ACCELERATION=True\n",
        "\n",
        "# Augmentación \"fuerte\" (True) o \"ligera\" (False)\n",
        "AUG_STRONG = False\n",
        "\n",
        "# ---------- CARGA DE DATOS ----------\n",
        "image_ds = tf.keras.utils.image_dataset_from_directory\n",
        "\n",
        "train_raw = image_ds(f\"{BASE}/train\", image_size=(IMG, IMG), batch_size=BATCH,\n",
        "                     label_mode=\"categorical\", shuffle=True)\n",
        "val_raw   = image_ds(f\"{BASE}/val\",   image_size=(IMG, IMG), batch_size=BATCH,\n",
        "                     label_mode=\"categorical\", shuffle=False)\n",
        "test_raw  = image_ds(f\"{BASE}/test\",  image_size=(IMG, IMG), batch_size=BATCH,\n",
        "                     label_mode=\"categorical\", shuffle=False)\n",
        "\n",
        "class_names = list(train_raw.class_names)  # p.ej. ['churros','donuts','waffles']\n",
        "num_classes = len(class_names)\n",
        "print(\"Clases:\", class_names, \"| num_classes:\", num_classes)\n",
        "\n",
        "# Guarda class_names para la app\n",
        "os.makedirs(\"models\", exist_ok=True)\n",
        "with open(\"models/class_names.json\", \"w\") as f:\n",
        "    json.dump(class_names, f)\n",
        "\n",
        "# ---------- AUGMENTACIÓN ----------\n",
        "if AUG_STRONG:\n",
        "    data_aug = keras.Sequential([\n",
        "        layers.RandomFlip(\"horizontal\"),\n",
        "        layers.RandomRotation(0.15),\n",
        "        layers.RandomZoom(0.15),\n",
        "        layers.RandomTranslation(0.1, 0.1),\n",
        "        layers.RandomContrast(0.1),\n",
        "    ], name=\"data_aug\")\n",
        "else:\n",
        "    data_aug = keras.Sequential([\n",
        "        layers.RandomFlip(\"horizontal\"),\n",
        "        layers.RandomRotation(0.1),\n",
        "        layers.RandomZoom(0.1),\n",
        "    ], name=\"data_aug\")\n",
        "\n",
        "AUTO = tf.data.AUTOTUNE\n",
        "train_ds = train_raw.map(lambda x, y: (data_aug(x, training=True), y),\n",
        "                         num_parallel_calls=AUTO).prefetch(AUTO)\n",
        "val_ds   = val_raw.prefetch(AUTO)\n",
        "test_ds  = test_raw.prefetch(AUTO)\n",
        "\n",
        "# ---------- MODELO ----------\n",
        "def SmallCNNv2(num_classes: int, img_size: int = IMG):\n",
        "    i = keras.Input((img_size, img_size, 3))\n",
        "    x = layers.Rescaling(1./255)(i)  # Normalización [0,1]\n",
        "    for filters in [32, 64, 128, 256]:\n",
        "        x = layers.Conv2D(filters, 3, padding=\"same\", use_bias=False)(x)\n",
        "        x = layers.BatchNormalization()(x); x = layers.ReLU()(x)\n",
        "        x = layers.Conv2D(filters, 3, padding=\"same\", use_bias=False)(x)\n",
        "        x = layers.BatchNormalization()(x); x = layers.ReLU()(x)\n",
        "        x = layers.MaxPool2D()(x); x = layers.Dropout(0.25)(x)\n",
        "    x = layers.GlobalAveragePooling2D()(x)\n",
        "    x = layers.Dense(256, activation=\"relu\")(x); x = layers.Dropout(0.4)(x)\n",
        "    o = layers.Dense(num_classes, activation=\"softmax\", dtype=\"float32\")(x)  # salida en float32 (seguro para mixed precision)\n",
        "    return keras.Model(i, o, name=\"SmallCNNv2\")\n",
        "\n",
        "model = SmallCNNv2(num_classes)\n",
        "\n",
        "# ---------- SCHEDULER PARA 20 ÉPOCAS ----------\n",
        "def cardinality(ds):\n",
        "    # devuelve nº de batches si se puede; si no, cuenta por iteración\n",
        "    try:\n",
        "        c = int(tf.data.get_cardinality(ds).numpy())\n",
        "        if c > 0: return c\n",
        "    except Exception:\n",
        "        pass\n",
        "    cnt = 0\n",
        "    for _ in ds:\n",
        "        cnt += 1\n",
        "    return max(cnt, 1)\n",
        "\n",
        "if USE_ACCELERATION:\n",
        "    steps_per_epoch = ACC_STEPS_PER_EPOCH\n",
        "else:\n",
        "    steps_per_epoch = cardinality(train_raw)\n",
        "\n",
        "total_steps = steps_per_epoch * EPOCHS\n",
        "print(f\"EPOCHS={EPOCHS} | steps_per_epoch={steps_per_epoch} | total_steps={total_steps}\")\n",
        "\n",
        "lr_schedule = keras.optimizers.schedules.CosineDecay(\n",
        "    initial_learning_rate=3e-4,\n",
        "    decay_steps=total_steps\n",
        ")\n",
        "opt = keras.optimizers.AdamW(learning_rate=lr_schedule, weight_decay=1e-4)\n",
        "\n",
        "# (Opcional) activar mixed precision si tu GPU lo soporta (acelera sin perder calidad)\n",
        "# from tensorflow.keras import mixed_precision\n",
        "# mixed_precision.set_global_policy('mixed_float16')\n",
        "\n",
        "model.compile(\n",
        "    optimizer=opt,\n",
        "    loss=keras.losses.CategoricalCrossentropy(label_smoothing=0.1),\n",
        "    metrics=[\"accuracy\"],\n",
        "    jit_compile=True,   # suele acelerar\n",
        ")\n",
        "\n",
        "# ---------- CALLBACKS ----------\n",
        "ck = keras.callbacks.ModelCheckpoint(\n",
        "    \"models/best_small_pro.keras\", monitor=\"val_accuracy\",\n",
        "    save_best_only=True, verbose=1\n",
        ")\n",
        "es = keras.callbacks.EarlyStopping(\n",
        "    monitor=\"val_accuracy\", patience=6, restore_best_weights=True, verbose=1\n",
        ")\n",
        "\n",
        "# (Opcional) límite de tiempo total (ej. 10 min)\n",
        "# import time\n",
        "# class TimeLimit(keras.callbacks.Callback):\n",
        "#     def __init__(self, seconds): self.seconds = seconds\n",
        "#     def on_train_begin(self, logs=None): self.t0 = time.time()\n",
        "#     def on_train_batch_end(self, batch, logs=None):\n",
        "#         if time.time() - self.t0 > self.seconds:\n",
        "#             print(f\"\\n⏱️ Deteniendo por límite de {self.seconds} s\"); self.model.stop_training = True\n",
        "# time_limit = TimeLimit(seconds=600)\n",
        "\n",
        "# ---------- ENTRENAR ----------\n",
        "fit_kwargs = dict(\n",
        "    x=train_ds,\n",
        "    validation_data=val_ds,\n",
        "    epochs=EPOCHS,\n",
        "    callbacks=[ck, es],\n",
        "    verbose=1\n",
        ")\n",
        "if USE_ACCELERATION:\n",
        "    fit_kwargs[\"steps_per_epoch\"] = steps_per_epoch   # recorte por época\n",
        "history = model.fit(**fit_kwargs)\n",
        "\n",
        "print(\"Mejor val_accuracy:\", max(history.history[\"val_accuracy\"]))\n",
        "test_loss, test_acc = model.evaluate(test_ds, verbose=0)\n",
        "print(f\"Test accuracy (SmallCNNv2): {test_acc:.4f}\")\n",
        "\n",
        "# ---------- GUARDAR ----------\n",
        "model.save(\"models/baseline_smallcnn_v2.keras\")\n",
        "print(\"Guardados:\", \"models/best_small_pro.keras\", \"y\", \"models/baseline_smallcnn_v2.keras\")\n",
        "\n"
      ],
      "metadata": {
        "id": "ZxklOQ0707-w",
        "colab": {
          "base_uri": "https://localhost:8080/"
        },
        "outputId": "b42aac05-ce3d-46f9-dc66-083c64abb94f"
      },
      "execution_count": null,
      "outputs": [
        {
          "output_type": "stream",
          "name": "stdout",
          "text": [
            "Found 2100 files belonging to 3 classes.\n",
            "Found 450 files belonging to 3 classes.\n",
            "Found 450 files belonging to 3 classes.\n",
            "Clases: ['churros', 'donuts', 'waffles'] | num_classes: 3\n",
            "EPOCHS=20 | steps_per_epoch=66 | total_steps=1320\n",
            "Epoch 1/20\n",
            "\u001b[1m66/66\u001b[0m \u001b[32m━━━━━━━━━━━━━━━━━━━━\u001b[0m\u001b[37m\u001b[0m \u001b[1m0s\u001b[0m 25s/step - accuracy: 0.3787 - loss: 1.2663 \n",
            "Epoch 1: val_accuracy improved from -inf to 0.33333, saving model to models/best_small_pro.keras\n",
            "\u001b[1m66/66\u001b[0m \u001b[32m━━━━━━━━━━━━━━━━━━━━\u001b[0m\u001b[37m\u001b[0m \u001b[1m1729s\u001b[0m 26s/step - accuracy: 0.3789 - loss: 1.2649 - val_accuracy: 0.3333 - val_loss: 1.2042\n",
            "Epoch 2/20\n",
            "\u001b[1m66/66\u001b[0m \u001b[32m━━━━━━━━━━━━━━━━━━━━\u001b[0m\u001b[37m\u001b[0m \u001b[1m0s\u001b[0m 24s/step - accuracy: 0.4075 - loss: 1.0928 \n",
            "Epoch 2: val_accuracy improved from 0.33333 to 0.33556, saving model to models/best_small_pro.keras\n",
            "\u001b[1m66/66\u001b[0m \u001b[32m━━━━━━━━━━━━━━━━━━━━\u001b[0m\u001b[37m\u001b[0m \u001b[1m1656s\u001b[0m 25s/step - accuracy: 0.4078 - loss: 1.0927 - val_accuracy: 0.3356 - val_loss: 1.2354\n",
            "Epoch 3/20\n",
            "\u001b[1m66/66\u001b[0m \u001b[32m━━━━━━━━━━━━━━━━━━━━\u001b[0m\u001b[37m\u001b[0m \u001b[1m0s\u001b[0m 24s/step - accuracy: 0.5023 - loss: 1.0355 \n",
            "Epoch 3: val_accuracy did not improve from 0.33556\n",
            "\u001b[1m66/66\u001b[0m \u001b[32m━━━━━━━━━━━━━━━━━━━━\u001b[0m\u001b[37m\u001b[0m \u001b[1m1665s\u001b[0m 25s/step - accuracy: 0.5020 - loss: 1.0356 - val_accuracy: 0.3356 - val_loss: 1.3533\n",
            "Epoch 4/20\n",
            "\u001b[1m66/66\u001b[0m \u001b[32m━━━━━━━━━━━━━━━━━━━━\u001b[0m\u001b[37m\u001b[0m \u001b[1m0s\u001b[0m 24s/step - accuracy: 0.5065 - loss: 1.0144 \n",
            "Epoch 4: val_accuracy improved from 0.33556 to 0.34000, saving model to models/best_small_pro.keras\n",
            "\u001b[1m66/66\u001b[0m \u001b[32m━━━━━━━━━━━━━━━━━━━━\u001b[0m\u001b[37m\u001b[0m \u001b[1m1649s\u001b[0m 25s/step - accuracy: 0.5065 - loss: 1.0145 - val_accuracy: 0.3400 - val_loss: 1.4393\n",
            "Epoch 5/20\n",
            "\u001b[1m66/66\u001b[0m \u001b[32m━━━━━━━━━━━━━━━━━━━━\u001b[0m\u001b[37m\u001b[0m \u001b[1m0s\u001b[0m 24s/step - accuracy: 0.5367 - loss: 0.9825 \n",
            "Epoch 5: val_accuracy did not improve from 0.34000\n",
            "\u001b[1m66/66\u001b[0m \u001b[32m━━━━━━━━━━━━━━━━━━━━\u001b[0m\u001b[37m\u001b[0m \u001b[1m1708s\u001b[0m 25s/step - accuracy: 0.5368 - loss: 0.9826 - val_accuracy: 0.3356 - val_loss: 1.4636\n",
            "Epoch 6/20\n",
            "\u001b[1m66/66\u001b[0m \u001b[32m━━━━━━━━━━━━━━━━━━━━\u001b[0m\u001b[37m\u001b[0m \u001b[1m0s\u001b[0m 24s/step - accuracy: 0.5277 - loss: 0.9738 \n",
            "Epoch 6: val_accuracy improved from 0.34000 to 0.36222, saving model to models/best_small_pro.keras\n",
            "\u001b[1m66/66\u001b[0m \u001b[32m━━━━━━━━━━━━━━━━━━━━\u001b[0m\u001b[37m\u001b[0m \u001b[1m1703s\u001b[0m 25s/step - accuracy: 0.5280 - loss: 0.9738 - val_accuracy: 0.3622 - val_loss: 1.2381\n",
            "Epoch 7/20\n",
            "\u001b[1m55/66\u001b[0m \u001b[32m━━━━━━━━━━━━━━━━\u001b[0m\u001b[37m━━━━\u001b[0m \u001b[1m4:24\u001b[0m 24s/step - accuracy: 0.5770 - loss: 0.9410"
          ]
        }
      ]
    },
    {
      "cell_type": "code",
      "source": [
        "model.summary()"
      ],
      "metadata": {
        "id": "OqTBk_6kvzP5"
      },
      "execution_count": null,
      "outputs": []
    },
    {
      "cell_type": "markdown",
      "source": [
        "**PASO 5 — Entrenar MobileNetV2 (transfer learning, 2 fases)**"
      ],
      "metadata": {
        "id": "K9si7w_0qbH0"
      }
    },
    {
      "cell_type": "code",
      "source": [
        "# Cargadores desde las carpetas creadas en el PASO 2\n",
        "IMG, BATCH = 224, 32\n",
        "image_ds = tf.keras.utils.image_dataset_from_directory\n",
        "\n",
        "train_ds = image_ds(\n",
        "    \"/content/postres_split/train\",\n",
        "    image_size=(IMG, IMG),\n",
        "    batch_size=BATCH,\n",
        "    label_mode=\"categorical\",\n",
        "    shuffle=True,\n",
        ")\n",
        "\n",
        "val_ds = image_ds(\n",
        "    \"/content/postres_split/val\",\n",
        "    image_size=(IMG, IMG),\n",
        "    batch_size=BATCH,\n",
        "    label_mode=\"categorical\",\n",
        "    shuffle=False,\n",
        ")\n",
        "\n",
        "test_ds = image_ds(\n",
        "    \"/content/postres_split/test\",\n",
        "    image_size=(IMG, IMG),\n",
        "    batch_size=BATCH,\n",
        "    label_mode=\"categorical\",\n",
        "    shuffle=False,\n",
        ")"
      ],
      "metadata": {
        "colab": {
          "base_uri": "https://localhost:8080/"
        },
        "id": "AsGaaofQqq-1",
        "outputId": "c16c10e8-5490-43eb-8e37-d4dc01eb5a39"
      },
      "execution_count": 20,
      "outputs": [
        {
          "output_type": "stream",
          "name": "stdout",
          "text": [
            "Found 2100 files belonging to 3 classes.\n",
            "Found 450 files belonging to 3 classes.\n",
            "Found 450 files belonging to 3 classes.\n"
          ]
        }
      ]
    },
    {
      "cell_type": "code",
      "source": [
        "# PASO 5 — MobileNetV2 (TF 2.19, Keras 3)\n",
        "\n",
        "from tensorflow import keras\n",
        "from tensorflow.keras import layers\n",
        "import tensorflow as tf\n",
        "\n",
        "def build_mobilenetv2(num_classes:int, img:int=IMG):\n",
        "    base = keras.applications.MobileNetV2(\n",
        "        include_top=False, weights=\"imagenet\", input_shape=(img, img, 3)\n",
        "    )\n",
        "    base.trainable = False  # Fase 1: congelada\n",
        "    i = keras.Input((img, img, 3))\n",
        "    x = keras.applications.mobilenet_v2.preprocess_input(i)\n",
        "    x = base(x, training=False)\n",
        "    x = layers.GlobalAveragePooling2D()(x)\n",
        "    x = layers.Dropout(0.3)(x)\n",
        "    o = layers.Dense(num_classes, activation=\"softmax\")(x)\n",
        "    return keras.Model(i, o), base\n",
        "\n",
        "mnet, base = build_mobilenetv2(num_classes)\n",
        "\n",
        "# Callbacks\n",
        "ck = keras.callbacks.ModelCheckpoint(\"models/best_mobilenet.keras\",\n",
        "                                     monitor=\"val_accuracy\", save_best_only=True, verbose=1)\n",
        "es = keras.callbacks.EarlyStopping(monitor=\"val_accuracy\", patience=5,\n",
        "                                   restore_best_weights=True, verbose=1)\n",
        "\n",
        "# -------- FASE 1: entrenar \"cabeza\" (base congelada)\n",
        "mnet.compile(optimizer=keras.optimizers.Adam(1e-3),\n",
        "             loss=\"categorical_crossentropy\", metrics=[\"accuracy\"])\n",
        "hist1 = mnet.fit(train_ds, validation_data=val_ds,\n",
        "                 epochs=10, callbacks=[ck, es], verbose=1)\n",
        "\n",
        "val1 = max(hist1.history[\"val_accuracy\"])\n",
        "\n",
        "# -------- FASE 2 (opcional): fine-tuning — descongelar últimas capas\n",
        "# Descongela ~el 30% final de capas del backbone\n",
        "total = len(base.layers)\n",
        "unfreeze_from = int(total * 0.7)\n",
        "for l in base.layers[unfreeze_from:]:\n",
        "    l.trainable = True\n",
        "\n",
        "mnet.compile(optimizer=keras.optimizers.Adam(1e-5),\n",
        "             loss=\"categorical_crossentropy\", metrics=[\"accuracy\"])\n",
        "\n",
        "hist2 = mnet.fit(train_ds, validation_data=val_ds,\n",
        "                 epochs=5, callbacks=[ck, es], verbose=1)\n",
        "\n",
        "val2 = max(hist2.history[\"val_accuracy\"]) if \"val_accuracy\" in hist2.history else 0.0\n",
        "best_val = max(val1, val2)\n",
        "print(f\"Mejor val_accuracy MobileNetV2: {best_val:.4f}\")\n",
        "\n",
        "# Evaluación en test con los mejores pesos (ModelCheckpoint ya restauró si EarlyStopping lo hizo)\n",
        "test_loss, test_acc = mnet.evaluate(test_ds, verbose=0)\n",
        "print(f\"Test accuracy (MobileNetV2): {test_acc:.4f}\")\n"
      ],
      "metadata": {
        "colab": {
          "base_uri": "https://localhost:8080/"
        },
        "id": "gaNFJv-mqtsc",
        "outputId": "bc09b828-9649-4bf6-d3f0-a62c14c028c9"
      },
      "execution_count": 21,
      "outputs": [
        {
          "output_type": "stream",
          "name": "stdout",
          "text": [
            "Downloading data from https://storage.googleapis.com/tensorflow/keras-applications/mobilenet_v2/mobilenet_v2_weights_tf_dim_ordering_tf_kernels_1.0_224_no_top.h5\n",
            "\u001b[1m9406464/9406464\u001b[0m \u001b[32m━━━━━━━━━━━━━━━━━━━━\u001b[0m\u001b[37m\u001b[0m \u001b[1m0s\u001b[0m 0us/step\n",
            "Epoch 1/10\n",
            "\u001b[1m66/66\u001b[0m \u001b[32m━━━━━━━━━━━━━━━━━━━━\u001b[0m\u001b[37m\u001b[0m \u001b[1m0s\u001b[0m 1s/step - accuracy: 0.6053 - loss: 0.8962\n",
            "Epoch 1: val_accuracy improved from -inf to 0.90000, saving model to models/best_mobilenet.keras\n",
            "\u001b[1m66/66\u001b[0m \u001b[32m━━━━━━━━━━━━━━━━━━━━\u001b[0m\u001b[37m\u001b[0m \u001b[1m110s\u001b[0m 2s/step - accuracy: 0.6073 - loss: 0.8922 - val_accuracy: 0.9000 - val_loss: 0.3243\n",
            "Epoch 2/10\n",
            "\u001b[1m66/66\u001b[0m \u001b[32m━━━━━━━━━━━━━━━━━━━━\u001b[0m\u001b[37m\u001b[0m \u001b[1m0s\u001b[0m 1s/step - accuracy: 0.8933 - loss: 0.3082\n",
            "Epoch 2: val_accuracy improved from 0.90000 to 0.90444, saving model to models/best_mobilenet.keras\n",
            "\u001b[1m66/66\u001b[0m \u001b[32m━━━━━━━━━━━━━━━━━━━━\u001b[0m\u001b[37m\u001b[0m \u001b[1m143s\u001b[0m 2s/step - accuracy: 0.8934 - loss: 0.3080 - val_accuracy: 0.9044 - val_loss: 0.3023\n",
            "Epoch 3/10\n",
            "\u001b[1m66/66\u001b[0m \u001b[32m━━━━━━━━━━━━━━━━━━━━\u001b[0m\u001b[37m\u001b[0m \u001b[1m0s\u001b[0m 1s/step - accuracy: 0.9158 - loss: 0.2496\n",
            "Epoch 3: val_accuracy improved from 0.90444 to 0.91333, saving model to models/best_mobilenet.keras\n",
            "\u001b[1m66/66\u001b[0m \u001b[32m━━━━━━━━━━━━━━━━━━━━\u001b[0m\u001b[37m\u001b[0m \u001b[1m107s\u001b[0m 2s/step - accuracy: 0.9157 - loss: 0.2496 - val_accuracy: 0.9133 - val_loss: 0.2751\n",
            "Epoch 4/10\n",
            "\u001b[1m66/66\u001b[0m \u001b[32m━━━━━━━━━━━━━━━━━━━━\u001b[0m\u001b[37m\u001b[0m \u001b[1m0s\u001b[0m 1s/step - accuracy: 0.9206 - loss: 0.2105\n",
            "Epoch 4: val_accuracy did not improve from 0.91333\n",
            "\u001b[1m66/66\u001b[0m \u001b[32m━━━━━━━━━━━━━━━━━━━━\u001b[0m\u001b[37m\u001b[0m \u001b[1m141s\u001b[0m 2s/step - accuracy: 0.9207 - loss: 0.2105 - val_accuracy: 0.9133 - val_loss: 0.2763\n",
            "Epoch 5/10\n",
            "\u001b[1m66/66\u001b[0m \u001b[32m━━━━━━━━━━━━━━━━━━━━\u001b[0m\u001b[37m\u001b[0m \u001b[1m0s\u001b[0m 1s/step - accuracy: 0.9242 - loss: 0.1927\n",
            "Epoch 5: val_accuracy did not improve from 0.91333\n",
            "\u001b[1m66/66\u001b[0m \u001b[32m━━━━━━━━━━━━━━━━━━━━\u001b[0m\u001b[37m\u001b[0m \u001b[1m106s\u001b[0m 2s/step - accuracy: 0.9242 - loss: 0.1928 - val_accuracy: 0.9067 - val_loss: 0.2853\n",
            "Epoch 6/10\n",
            "\u001b[1m66/66\u001b[0m \u001b[32m━━━━━━━━━━━━━━━━━━━━\u001b[0m\u001b[37m\u001b[0m \u001b[1m0s\u001b[0m 1s/step - accuracy: 0.9315 - loss: 0.1947\n",
            "Epoch 6: val_accuracy improved from 0.91333 to 0.92000, saving model to models/best_mobilenet.keras\n",
            "\u001b[1m66/66\u001b[0m \u001b[32m━━━━━━━━━━━━━━━━━━━━\u001b[0m\u001b[37m\u001b[0m \u001b[1m107s\u001b[0m 2s/step - accuracy: 0.9316 - loss: 0.1947 - val_accuracy: 0.9200 - val_loss: 0.2752\n",
            "Epoch 7/10\n",
            "\u001b[1m66/66\u001b[0m \u001b[32m━━━━━━━━━━━━━━━━━━━━\u001b[0m\u001b[37m\u001b[0m \u001b[1m0s\u001b[0m 1s/step - accuracy: 0.9454 - loss: 0.1702\n",
            "Epoch 7: val_accuracy did not improve from 0.92000\n",
            "\u001b[1m66/66\u001b[0m \u001b[32m━━━━━━━━━━━━━━━━━━━━\u001b[0m\u001b[37m\u001b[0m \u001b[1m106s\u001b[0m 2s/step - accuracy: 0.9455 - loss: 0.1700 - val_accuracy: 0.9133 - val_loss: 0.2779\n",
            "Epoch 8/10\n",
            "\u001b[1m66/66\u001b[0m \u001b[32m━━━━━━━━━━━━━━━━━━━━\u001b[0m\u001b[37m\u001b[0m \u001b[1m0s\u001b[0m 1s/step - accuracy: 0.9392 - loss: 0.1605\n",
            "Epoch 8: val_accuracy did not improve from 0.92000\n",
            "\u001b[1m66/66\u001b[0m \u001b[32m━━━━━━━━━━━━━━━━━━━━\u001b[0m\u001b[37m\u001b[0m \u001b[1m143s\u001b[0m 2s/step - accuracy: 0.9392 - loss: 0.1606 - val_accuracy: 0.9178 - val_loss: 0.2778\n",
            "Epoch 9/10\n",
            "\u001b[1m66/66\u001b[0m \u001b[32m━━━━━━━━━━━━━━━━━━━━\u001b[0m\u001b[37m\u001b[0m \u001b[1m0s\u001b[0m 1s/step - accuracy: 0.9522 - loss: 0.1422\n",
            "Epoch 9: val_accuracy did not improve from 0.92000\n",
            "\u001b[1m66/66\u001b[0m \u001b[32m━━━━━━━━━━━━━━━━━━━━\u001b[0m\u001b[37m\u001b[0m \u001b[1m105s\u001b[0m 2s/step - accuracy: 0.9521 - loss: 0.1423 - val_accuracy: 0.9178 - val_loss: 0.2680\n",
            "Epoch 10/10\n",
            "\u001b[1m66/66\u001b[0m \u001b[32m━━━━━━━━━━━━━━━━━━━━\u001b[0m\u001b[37m\u001b[0m \u001b[1m0s\u001b[0m 1s/step - accuracy: 0.9535 - loss: 0.1361\n",
            "Epoch 10: val_accuracy did not improve from 0.92000\n",
            "\u001b[1m66/66\u001b[0m \u001b[32m━━━━━━━━━━━━━━━━━━━━\u001b[0m\u001b[37m\u001b[0m \u001b[1m106s\u001b[0m 2s/step - accuracy: 0.9535 - loss: 0.1362 - val_accuracy: 0.9200 - val_loss: 0.2708\n",
            "Restoring model weights from the end of the best epoch: 6.\n",
            "Epoch 1/5\n",
            "\u001b[1m66/66\u001b[0m \u001b[32m━━━━━━━━━━━━━━━━━━━━\u001b[0m\u001b[37m\u001b[0m \u001b[1m0s\u001b[0m 2s/step - accuracy: 0.8339 - loss: 0.4136\n",
            "Epoch 1: val_accuracy did not improve from 0.92000\n",
            "\u001b[1m66/66\u001b[0m \u001b[32m━━━━━━━━━━━━━━━━━━━━\u001b[0m\u001b[37m\u001b[0m \u001b[1m166s\u001b[0m 2s/step - accuracy: 0.8341 - loss: 0.4135 - val_accuracy: 0.9178 - val_loss: 0.2815\n",
            "Epoch 2/5\n",
            "\u001b[1m66/66\u001b[0m \u001b[32m━━━━━━━━━━━━━━━━━━━━\u001b[0m\u001b[37m\u001b[0m \u001b[1m0s\u001b[0m 2s/step - accuracy: 0.8950 - loss: 0.2901\n",
            "Epoch 2: val_accuracy did not improve from 0.92000\n",
            "\u001b[1m66/66\u001b[0m \u001b[32m━━━━━━━━━━━━━━━━━━━━\u001b[0m\u001b[37m\u001b[0m \u001b[1m203s\u001b[0m 2s/step - accuracy: 0.8950 - loss: 0.2899 - val_accuracy: 0.9178 - val_loss: 0.2845\n",
            "Epoch 3/5\n",
            "\u001b[1m66/66\u001b[0m \u001b[32m━━━━━━━━━━━━━━━━━━━━\u001b[0m\u001b[37m\u001b[0m \u001b[1m0s\u001b[0m 2s/step - accuracy: 0.9141 - loss: 0.2435\n",
            "Epoch 3: val_accuracy did not improve from 0.92000\n",
            "\u001b[1m66/66\u001b[0m \u001b[32m━━━━━━━━━━━━━━━━━━━━\u001b[0m\u001b[37m\u001b[0m \u001b[1m203s\u001b[0m 2s/step - accuracy: 0.9140 - loss: 0.2434 - val_accuracy: 0.9200 - val_loss: 0.2788\n",
            "Epoch 4/5\n",
            "\u001b[1m66/66\u001b[0m \u001b[32m━━━━━━━━━━━━━━━━━━━━\u001b[0m\u001b[37m\u001b[0m \u001b[1m0s\u001b[0m 2s/step - accuracy: 0.9245 - loss: 0.2123\n",
            "Epoch 4: val_accuracy improved from 0.92000 to 0.92889, saving model to models/best_mobilenet.keras\n",
            "\u001b[1m66/66\u001b[0m \u001b[32m━━━━━━━━━━━━━━━━━━━━\u001b[0m\u001b[37m\u001b[0m \u001b[1m154s\u001b[0m 2s/step - accuracy: 0.9246 - loss: 0.2121 - val_accuracy: 0.9289 - val_loss: 0.2718\n",
            "Epoch 5/5\n",
            "\u001b[1m66/66\u001b[0m \u001b[32m━━━━━━━━━━━━━━━━━━━━\u001b[0m\u001b[37m\u001b[0m \u001b[1m0s\u001b[0m 2s/step - accuracy: 0.9362 - loss: 0.1804\n",
            "Epoch 5: val_accuracy did not improve from 0.92889\n",
            "\u001b[1m66/66\u001b[0m \u001b[32m━━━━━━━━━━━━━━━━━━━━\u001b[0m\u001b[37m\u001b[0m \u001b[1m201s\u001b[0m 2s/step - accuracy: 0.9364 - loss: 0.1801 - val_accuracy: 0.9267 - val_loss: 0.2683\n",
            "Restoring model weights from the end of the best epoch: 4.\n",
            "Mejor val_accuracy MobileNetV2: 0.9289\n",
            "Test accuracy (MobileNetV2): 0.9244\n"
          ]
        }
      ]
    },
    {
      "cell_type": "markdown",
      "source": [
        "**PASO 6 — Entrenar EfficientNetB0 (transfer learning + fine-tuning)**"
      ],
      "metadata": {
        "id": "YT18V9nvN0dh"
      }
    },
    {
      "cell_type": "code",
      "source": [
        "# Cargadores desde las carpetas creadas en el PASO 2\n",
        "IMG, BATCH = 224, 32\n",
        "image_ds = tf.keras.utils.image_dataset_from_directory\n",
        "\n",
        "train_ds = image_ds(\n",
        "    \"/content/postres_split/train\",\n",
        "    image_size=(IMG, IMG),\n",
        "    batch_size=BATCH,\n",
        "    label_mode=\"categorical\",\n",
        "    shuffle=True,\n",
        ")\n",
        "\n",
        "val_ds = image_ds(\n",
        "    \"/content/postres_split/val\",\n",
        "    image_size=(IMG, IMG),\n",
        "    batch_size=BATCH,\n",
        "    label_mode=\"categorical\",\n",
        "    shuffle=False,\n",
        ")\n",
        "\n",
        "test_ds = image_ds(\n",
        "    \"/content/postres_split/test\",\n",
        "    image_size=(IMG, IMG),\n",
        "    batch_size=BATCH,\n",
        "    label_mode=\"categorical\",\n",
        "    shuffle=False,\n",
        ")"
      ],
      "metadata": {
        "colab": {
          "base_uri": "https://localhost:8080/"
        },
        "id": "VyepndlbOHAf",
        "outputId": "234e675a-e119-41e0-a302-b26e012e3f02"
      },
      "execution_count": 22,
      "outputs": [
        {
          "output_type": "stream",
          "name": "stdout",
          "text": [
            "Found 2100 files belonging to 3 classes.\n",
            "Found 450 files belonging to 3 classes.\n",
            "Found 450 files belonging to 3 classes.\n"
          ]
        }
      ]
    },
    {
      "cell_type": "code",
      "source": [
        "# PASO 6 — EfficientNetB0 (TF 2.19)\n",
        "\n",
        "from tensorflow import keras\n",
        "from tensorflow.keras import layers\n",
        "import tensorflow as tf\n",
        "\n",
        "def build_efficientnet_b0(num_classes: int, img: int = IMG):\n",
        "    base = keras.applications.EfficientNetB0(\n",
        "        include_top=False, weights=\"imagenet\", input_shape=(img, img, 3)\n",
        "    )\n",
        "    base.trainable = False  # Fase 1: congelada\n",
        "    i = keras.Input((img, img, 3))\n",
        "    x = keras.applications.efficientnet.preprocess_input(i)\n",
        "    x = base(x, training=False)\n",
        "    x = layers.GlobalAveragePooling2D()(x)\n",
        "    x = layers.Dropout(0.3)(x)\n",
        "    o = layers.Dense(num_classes, activation=\"softmax\")(x)\n",
        "    return keras.Model(i, o, name=\"EfficientNetB0\"), base\n",
        "\n",
        "eff, base = build_efficientnet_b0(num_classes)\n",
        "\n",
        "ck = keras.callbacks.ModelCheckpoint(\n",
        "    \"models/best_efficientnet.keras\", monitor=\"val_accuracy\", save_best_only=True, verbose=1\n",
        ")\n",
        "es = keras.callbacks.EarlyStopping(\n",
        "    monitor=\"val_accuracy\", patience=5, restore_best_weights=True, verbose=1\n",
        ")\n",
        "\n",
        "# -------- FASE 1: entrenar la cabeza\n",
        "eff.compile(optimizer=keras.optimizers.Adam(1e-3),\n",
        "            loss=\"categorical_crossentropy\", metrics=[\"accuracy\"])\n",
        "hist1 = eff.fit(train_ds, validation_data=val_ds, epochs=8, callbacks=[ck, es], verbose=1)\n",
        "val1 = max(hist1.history.get(\"val_accuracy\", [0.0]))\n",
        "\n",
        "# -------- FASE 2: fine-tuning (descongelar ~30% final del backbone)\n",
        "total = len(base.layers)\n",
        "unfreeze_from = int(total * 0.7)\n",
        "for l in base.layers[unfreeze_from:]:\n",
        "    l.trainable = True\n",
        "\n",
        "eff.compile(optimizer=keras.optimizers.Adam(1e-5),\n",
        "            loss=\"categorical_crossentropy\", metrics=[\"accuracy\"])\n",
        "hist2 = eff.fit(train_ds, validation_data=val_ds, epochs=5, callbacks=[ck, es], verbose=1)\n",
        "val2 = max(hist2.history.get(\"val_accuracy\", [0.0]))\n",
        "\n",
        "print(f\"Mejor val_accuracy (EfficientNetB0): {max(val1, val2):.4f}\")\n",
        "\n",
        "# Evaluación en test\n",
        "test_loss, test_acc = eff.evaluate(test_ds, verbose=0)\n",
        "print(f\"Test accuracy (EfficientNetB0): {test_acc:.4f}\")\n"
      ],
      "metadata": {
        "colab": {
          "base_uri": "https://localhost:8080/"
        },
        "id": "NvURR4V5OJyg",
        "outputId": "19b1aa08-1bd1-4ecd-e1e9-7f879a49b7c4"
      },
      "execution_count": 23,
      "outputs": [
        {
          "output_type": "stream",
          "name": "stdout",
          "text": [
            "Downloading data from https://storage.googleapis.com/keras-applications/efficientnetb0_notop.h5\n",
            "\u001b[1m16705208/16705208\u001b[0m \u001b[32m━━━━━━━━━━━━━━━━━━━━\u001b[0m\u001b[37m\u001b[0m \u001b[1m0s\u001b[0m 0us/step\n",
            "Epoch 1/8\n",
            "\u001b[1m66/66\u001b[0m \u001b[32m━━━━━━━━━━━━━━━━━━━━\u001b[0m\u001b[37m\u001b[0m \u001b[1m0s\u001b[0m 2s/step - accuracy: 0.6565 - loss: 0.7905\n",
            "Epoch 1: val_accuracy improved from -inf to 0.93556, saving model to models/best_efficientnet.keras\n",
            "\u001b[1m66/66\u001b[0m \u001b[32m━━━━━━━━━━━━━━━━━━━━\u001b[0m\u001b[37m\u001b[0m \u001b[1m194s\u001b[0m 3s/step - accuracy: 0.6585 - loss: 0.7870 - val_accuracy: 0.9356 - val_loss: 0.2870\n",
            "Epoch 2/8\n",
            "\u001b[1m66/66\u001b[0m \u001b[32m━━━━━━━━━━━━━━━━━━━━\u001b[0m\u001b[37m\u001b[0m \u001b[1m0s\u001b[0m 2s/step - accuracy: 0.9071 - loss: 0.2847\n",
            "Epoch 2: val_accuracy did not improve from 0.93556\n",
            "\u001b[1m66/66\u001b[0m \u001b[32m━━━━━━━━━━━━━━━━━━━━\u001b[0m\u001b[37m\u001b[0m \u001b[1m206s\u001b[0m 3s/step - accuracy: 0.9071 - loss: 0.2846 - val_accuracy: 0.9289 - val_loss: 0.2263\n",
            "Epoch 3/8\n",
            "\u001b[1m66/66\u001b[0m \u001b[32m━━━━━━━━━━━━━━━━━━━━\u001b[0m\u001b[37m\u001b[0m \u001b[1m0s\u001b[0m 2s/step - accuracy: 0.9281 - loss: 0.2225\n",
            "Epoch 3: val_accuracy did not improve from 0.93556\n",
            "\u001b[1m66/66\u001b[0m \u001b[32m━━━━━━━━━━━━━━━━━━━━\u001b[0m\u001b[37m\u001b[0m \u001b[1m179s\u001b[0m 3s/step - accuracy: 0.9281 - loss: 0.2225 - val_accuracy: 0.9333 - val_loss: 0.2093\n",
            "Epoch 4/8\n",
            "\u001b[1m66/66\u001b[0m \u001b[32m━━━━━━━━━━━━━━━━━━━━\u001b[0m\u001b[37m\u001b[0m \u001b[1m0s\u001b[0m 2s/step - accuracy: 0.9415 - loss: 0.1867\n",
            "Epoch 4: val_accuracy did not improve from 0.93556\n",
            "\u001b[1m66/66\u001b[0m \u001b[32m━━━━━━━━━━━━━━━━━━━━\u001b[0m\u001b[37m\u001b[0m \u001b[1m211s\u001b[0m 3s/step - accuracy: 0.9414 - loss: 0.1869 - val_accuracy: 0.9311 - val_loss: 0.1930\n",
            "Epoch 5/8\n",
            "\u001b[1m66/66\u001b[0m \u001b[32m━━━━━━━━━━━━━━━━━━━━\u001b[0m\u001b[37m\u001b[0m \u001b[1m0s\u001b[0m 2s/step - accuracy: 0.9362 - loss: 0.1771\n",
            "Epoch 5: val_accuracy did not improve from 0.93556\n",
            "\u001b[1m66/66\u001b[0m \u001b[32m━━━━━━━━━━━━━━━━━━━━\u001b[0m\u001b[37m\u001b[0m \u001b[1m204s\u001b[0m 3s/step - accuracy: 0.9361 - loss: 0.1772 - val_accuracy: 0.9333 - val_loss: 0.1892\n",
            "Epoch 6/8\n",
            "\u001b[1m66/66\u001b[0m \u001b[32m━━━━━━━━━━━━━━━━━━━━\u001b[0m\u001b[37m\u001b[0m \u001b[1m0s\u001b[0m 2s/step - accuracy: 0.9536 - loss: 0.1634\n",
            "Epoch 6: val_accuracy improved from 0.93556 to 0.93778, saving model to models/best_efficientnet.keras\n",
            "\u001b[1m66/66\u001b[0m \u001b[32m━━━━━━━━━━━━━━━━━━━━\u001b[0m\u001b[37m\u001b[0m \u001b[1m194s\u001b[0m 3s/step - accuracy: 0.9536 - loss: 0.1634 - val_accuracy: 0.9378 - val_loss: 0.1866\n",
            "Epoch 7/8\n",
            "\u001b[1m66/66\u001b[0m \u001b[32m━━━━━━━━━━━━━━━━━━━━\u001b[0m\u001b[37m\u001b[0m \u001b[1m0s\u001b[0m 2s/step - accuracy: 0.9526 - loss: 0.1497\n",
            "Epoch 7: val_accuracy did not improve from 0.93778\n",
            "\u001b[1m66/66\u001b[0m \u001b[32m━━━━━━━━━━━━━━━━━━━━\u001b[0m\u001b[37m\u001b[0m \u001b[1m190s\u001b[0m 3s/step - accuracy: 0.9526 - loss: 0.1498 - val_accuracy: 0.9356 - val_loss: 0.1792\n",
            "Epoch 8/8\n",
            "\u001b[1m66/66\u001b[0m \u001b[32m━━━━━━━━━━━━━━━━━━━━\u001b[0m\u001b[37m\u001b[0m \u001b[1m0s\u001b[0m 2s/step - accuracy: 0.9491 - loss: 0.1472\n",
            "Epoch 8: val_accuracy improved from 0.93778 to 0.94000, saving model to models/best_efficientnet.keras\n",
            "\u001b[1m66/66\u001b[0m \u001b[32m━━━━━━━━━━━━━━━━━━━━\u001b[0m\u001b[37m\u001b[0m \u001b[1m203s\u001b[0m 3s/step - accuracy: 0.9491 - loss: 0.1471 - val_accuracy: 0.9400 - val_loss: 0.1791\n",
            "Restoring model weights from the end of the best epoch: 8.\n",
            "Epoch 1/5\n",
            "\u001b[1m66/66\u001b[0m \u001b[32m━━━━━━━━━━━━━━━━━━━━\u001b[0m\u001b[37m\u001b[0m \u001b[1m0s\u001b[0m 3s/step - accuracy: 0.8429 - loss: 0.4096\n",
            "Epoch 1: val_accuracy did not improve from 0.94000\n",
            "\u001b[1m66/66\u001b[0m \u001b[32m━━━━━━━━━━━━━━━━━━━━\u001b[0m\u001b[37m\u001b[0m \u001b[1m263s\u001b[0m 4s/step - accuracy: 0.8427 - loss: 0.4096 - val_accuracy: 0.9289 - val_loss: 0.1897\n",
            "Epoch 2/5\n",
            "\u001b[1m66/66\u001b[0m \u001b[32m━━━━━━━━━━━━━━━━━━━━\u001b[0m\u001b[37m\u001b[0m \u001b[1m0s\u001b[0m 3s/step - accuracy: 0.8909 - loss: 0.3283\n",
            "Epoch 2: val_accuracy did not improve from 0.94000\n",
            "\u001b[1m66/66\u001b[0m \u001b[32m━━━━━━━━━━━━━━━━━━━━\u001b[0m\u001b[37m\u001b[0m \u001b[1m270s\u001b[0m 4s/step - accuracy: 0.8908 - loss: 0.3284 - val_accuracy: 0.9089 - val_loss: 0.2130\n",
            "Epoch 3/5\n",
            "\u001b[1m66/66\u001b[0m \u001b[32m━━━━━━━━━━━━━━━━━━━━\u001b[0m\u001b[37m\u001b[0m \u001b[1m0s\u001b[0m 3s/step - accuracy: 0.9066 - loss: 0.2963\n",
            "Epoch 3: val_accuracy did not improve from 0.94000\n",
            "\u001b[1m66/66\u001b[0m \u001b[32m━━━━━━━━━━━━━━━━━━━━\u001b[0m\u001b[37m\u001b[0m \u001b[1m247s\u001b[0m 4s/step - accuracy: 0.9065 - loss: 0.2962 - val_accuracy: 0.9044 - val_loss: 0.2257\n",
            "Epoch 4/5\n",
            "\u001b[1m66/66\u001b[0m \u001b[32m━━━━━━━━━━━━━━━━━━━━\u001b[0m\u001b[37m\u001b[0m \u001b[1m0s\u001b[0m 3s/step - accuracy: 0.9142 - loss: 0.2501\n",
            "Epoch 4: val_accuracy did not improve from 0.94000\n",
            "\u001b[1m66/66\u001b[0m \u001b[32m━━━━━━━━━━━━━━━━━━━━\u001b[0m\u001b[37m\u001b[0m \u001b[1m237s\u001b[0m 4s/step - accuracy: 0.9141 - loss: 0.2501 - val_accuracy: 0.9044 - val_loss: 0.2284\n",
            "Epoch 5/5\n",
            "\u001b[1m66/66\u001b[0m \u001b[32m━━━━━━━━━━━━━━━━━━━━\u001b[0m\u001b[37m\u001b[0m \u001b[1m0s\u001b[0m 3s/step - accuracy: 0.9231 - loss: 0.2398\n",
            "Epoch 5: val_accuracy did not improve from 0.94000\n",
            "\u001b[1m66/66\u001b[0m \u001b[32m━━━━━━━━━━━━━━━━━━━━\u001b[0m\u001b[37m\u001b[0m \u001b[1m273s\u001b[0m 4s/step - accuracy: 0.9232 - loss: 0.2397 - val_accuracy: 0.9089 - val_loss: 0.2259\n",
            "Restoring model weights from the end of the best epoch: 1.\n",
            "Mejor val_accuracy (EfficientNetB0): 0.9400\n",
            "Test accuracy (EfficientNetB0): 0.9244\n"
          ]
        }
      ]
    },
    {
      "cell_type": "code",
      "source": [
        "eff.summary()"
      ],
      "metadata": {
        "colab": {
          "base_uri": "https://localhost:8080/",
          "height": 340
        },
        "id": "Jm5UdOgKcLTS",
        "outputId": "46757547-be1e-429f-82c3-cdbf7ba1e4c3"
      },
      "execution_count": 24,
      "outputs": [
        {
          "output_type": "display_data",
          "data": {
            "text/plain": [
              "\u001b[1mModel: \"EfficientNetB0\"\u001b[0m\n"
            ],
            "text/html": [
              "<pre style=\"white-space:pre;overflow-x:auto;line-height:normal;font-family:Menlo,'DejaVu Sans Mono',consolas,'Courier New',monospace\"><span style=\"font-weight: bold\">Model: \"EfficientNetB0\"</span>\n",
              "</pre>\n"
            ]
          },
          "metadata": {}
        },
        {
          "output_type": "display_data",
          "data": {
            "text/plain": [
              "┏━━━━━━━━━━━━━━━━━━━━━━━━━━━━━━━━━┳━━━━━━━━━━━━━━━━━━━━━━━━┳━━━━━━━━━━━━━━━┓\n",
              "┃\u001b[1m \u001b[0m\u001b[1mLayer (type)                   \u001b[0m\u001b[1m \u001b[0m┃\u001b[1m \u001b[0m\u001b[1mOutput Shape          \u001b[0m\u001b[1m \u001b[0m┃\u001b[1m \u001b[0m\u001b[1m      Param #\u001b[0m\u001b[1m \u001b[0m┃\n",
              "┡━━━━━━━━━━━━━━━━━━━━━━━━━━━━━━━━━╇━━━━━━━━━━━━━━━━━━━━━━━━╇━━━━━━━━━━━━━━━┩\n",
              "│ input_layer_5 (\u001b[38;5;33mInputLayer\u001b[0m)      │ (\u001b[38;5;45mNone\u001b[0m, \u001b[38;5;34m224\u001b[0m, \u001b[38;5;34m224\u001b[0m, \u001b[38;5;34m3\u001b[0m)    │             \u001b[38;5;34m0\u001b[0m │\n",
              "├─────────────────────────────────┼────────────────────────┼───────────────┤\n",
              "│ efficientnetb0 (\u001b[38;5;33mFunctional\u001b[0m)     │ (\u001b[38;5;45mNone\u001b[0m, \u001b[38;5;34m7\u001b[0m, \u001b[38;5;34m7\u001b[0m, \u001b[38;5;34m1280\u001b[0m)     │     \u001b[38;5;34m4,049,571\u001b[0m │\n",
              "├─────────────────────────────────┼────────────────────────┼───────────────┤\n",
              "│ global_average_pooling2d_2      │ (\u001b[38;5;45mNone\u001b[0m, \u001b[38;5;34m1280\u001b[0m)           │             \u001b[38;5;34m0\u001b[0m │\n",
              "│ (\u001b[38;5;33mGlobalAveragePooling2D\u001b[0m)        │                        │               │\n",
              "├─────────────────────────────────┼────────────────────────┼───────────────┤\n",
              "│ dropout_1 (\u001b[38;5;33mDropout\u001b[0m)             │ (\u001b[38;5;45mNone\u001b[0m, \u001b[38;5;34m1280\u001b[0m)           │             \u001b[38;5;34m0\u001b[0m │\n",
              "├─────────────────────────────────┼────────────────────────┼───────────────┤\n",
              "│ dense_1 (\u001b[38;5;33mDense\u001b[0m)                 │ (\u001b[38;5;45mNone\u001b[0m, \u001b[38;5;34m3\u001b[0m)              │         \u001b[38;5;34m3,843\u001b[0m │\n",
              "└─────────────────────────────────┴────────────────────────┴───────────────┘\n"
            ],
            "text/html": [
              "<pre style=\"white-space:pre;overflow-x:auto;line-height:normal;font-family:Menlo,'DejaVu Sans Mono',consolas,'Courier New',monospace\">┏━━━━━━━━━━━━━━━━━━━━━━━━━━━━━━━━━┳━━━━━━━━━━━━━━━━━━━━━━━━┳━━━━━━━━━━━━━━━┓\n",
              "┃<span style=\"font-weight: bold\"> Layer (type)                    </span>┃<span style=\"font-weight: bold\"> Output Shape           </span>┃<span style=\"font-weight: bold\">       Param # </span>┃\n",
              "┡━━━━━━━━━━━━━━━━━━━━━━━━━━━━━━━━━╇━━━━━━━━━━━━━━━━━━━━━━━━╇━━━━━━━━━━━━━━━┩\n",
              "│ input_layer_5 (<span style=\"color: #0087ff; text-decoration-color: #0087ff\">InputLayer</span>)      │ (<span style=\"color: #00d7ff; text-decoration-color: #00d7ff\">None</span>, <span style=\"color: #00af00; text-decoration-color: #00af00\">224</span>, <span style=\"color: #00af00; text-decoration-color: #00af00\">224</span>, <span style=\"color: #00af00; text-decoration-color: #00af00\">3</span>)    │             <span style=\"color: #00af00; text-decoration-color: #00af00\">0</span> │\n",
              "├─────────────────────────────────┼────────────────────────┼───────────────┤\n",
              "│ efficientnetb0 (<span style=\"color: #0087ff; text-decoration-color: #0087ff\">Functional</span>)     │ (<span style=\"color: #00d7ff; text-decoration-color: #00d7ff\">None</span>, <span style=\"color: #00af00; text-decoration-color: #00af00\">7</span>, <span style=\"color: #00af00; text-decoration-color: #00af00\">7</span>, <span style=\"color: #00af00; text-decoration-color: #00af00\">1280</span>)     │     <span style=\"color: #00af00; text-decoration-color: #00af00\">4,049,571</span> │\n",
              "├─────────────────────────────────┼────────────────────────┼───────────────┤\n",
              "│ global_average_pooling2d_2      │ (<span style=\"color: #00d7ff; text-decoration-color: #00d7ff\">None</span>, <span style=\"color: #00af00; text-decoration-color: #00af00\">1280</span>)           │             <span style=\"color: #00af00; text-decoration-color: #00af00\">0</span> │\n",
              "│ (<span style=\"color: #0087ff; text-decoration-color: #0087ff\">GlobalAveragePooling2D</span>)        │                        │               │\n",
              "├─────────────────────────────────┼────────────────────────┼───────────────┤\n",
              "│ dropout_1 (<span style=\"color: #0087ff; text-decoration-color: #0087ff\">Dropout</span>)             │ (<span style=\"color: #00d7ff; text-decoration-color: #00d7ff\">None</span>, <span style=\"color: #00af00; text-decoration-color: #00af00\">1280</span>)           │             <span style=\"color: #00af00; text-decoration-color: #00af00\">0</span> │\n",
              "├─────────────────────────────────┼────────────────────────┼───────────────┤\n",
              "│ dense_1 (<span style=\"color: #0087ff; text-decoration-color: #0087ff\">Dense</span>)                 │ (<span style=\"color: #00d7ff; text-decoration-color: #00d7ff\">None</span>, <span style=\"color: #00af00; text-decoration-color: #00af00\">3</span>)              │         <span style=\"color: #00af00; text-decoration-color: #00af00\">3,843</span> │\n",
              "└─────────────────────────────────┴────────────────────────┴───────────────┘\n",
              "</pre>\n"
            ]
          },
          "metadata": {}
        },
        {
          "output_type": "display_data",
          "data": {
            "text/plain": [
              "\u001b[1m Total params: \u001b[0m\u001b[38;5;34m10,219,366\u001b[0m (38.98 MB)\n"
            ],
            "text/html": [
              "<pre style=\"white-space:pre;overflow-x:auto;line-height:normal;font-family:Menlo,'DejaVu Sans Mono',consolas,'Courier New',monospace\"><span style=\"font-weight: bold\"> Total params: </span><span style=\"color: #00af00; text-decoration-color: #00af00\">10,219,366</span> (38.98 MB)\n",
              "</pre>\n"
            ]
          },
          "metadata": {}
        },
        {
          "output_type": "display_data",
          "data": {
            "text/plain": [
              "\u001b[1m Trainable params: \u001b[0m\u001b[38;5;34m3,082,975\u001b[0m (11.76 MB)\n"
            ],
            "text/html": [
              "<pre style=\"white-space:pre;overflow-x:auto;line-height:normal;font-family:Menlo,'DejaVu Sans Mono',consolas,'Courier New',monospace\"><span style=\"font-weight: bold\"> Trainable params: </span><span style=\"color: #00af00; text-decoration-color: #00af00\">3,082,975</span> (11.76 MB)\n",
              "</pre>\n"
            ]
          },
          "metadata": {}
        },
        {
          "output_type": "display_data",
          "data": {
            "text/plain": [
              "\u001b[1m Non-trainable params: \u001b[0m\u001b[38;5;34m970,439\u001b[0m (3.70 MB)\n"
            ],
            "text/html": [
              "<pre style=\"white-space:pre;overflow-x:auto;line-height:normal;font-family:Menlo,'DejaVu Sans Mono',consolas,'Courier New',monospace\"><span style=\"font-weight: bold\"> Non-trainable params: </span><span style=\"color: #00af00; text-decoration-color: #00af00\">970,439</span> (3.70 MB)\n",
              "</pre>\n"
            ]
          },
          "metadata": {}
        },
        {
          "output_type": "display_data",
          "data": {
            "text/plain": [
              "\u001b[1m Optimizer params: \u001b[0m\u001b[38;5;34m6,165,952\u001b[0m (23.52 MB)\n"
            ],
            "text/html": [
              "<pre style=\"white-space:pre;overflow-x:auto;line-height:normal;font-family:Menlo,'DejaVu Sans Mono',consolas,'Courier New',monospace\"><span style=\"font-weight: bold\"> Optimizer params: </span><span style=\"color: #00af00; text-decoration-color: #00af00\">6,165,952</span> (23.52 MB)\n",
              "</pre>\n"
            ]
          },
          "metadata": {}
        }
      ]
    },
    {
      "cell_type": "markdown",
      "source": [
        "**Comparar los 3 modelos y dejar best_model.keras**"
      ],
      "metadata": {
        "id": "0dUH-ZrCtUIW"
      }
    },
    {
      "cell_type": "code",
      "source": [
        "from tensorflow import keras\n",
        "import os, pandas as pd\n",
        "\n",
        "candidatos = [\n",
        "    (\"SmallCNNv2\",      \"models/best_small_pro.keras\"),\n",
        "    (\"MobileNetV2\",     \"models/best_mobilenet.keras\"),\n",
        "    (\"EfficientNetB0\",  \"models/best_efficientnet.keras\"),\n",
        "]\n",
        "\n",
        "presentes = [(n,p) for n,p in candidatos if os.path.exists(p)]\n",
        "assert presentes, \"No hay modelos guardados en /models. Entrena al menos uno.\"\n",
        "\n",
        "rows = []\n",
        "for name, path in presentes:\n",
        "    m = keras.models.load_model(path)\n",
        "    tl, ta = m.evaluate(test_ds, verbose=0)\n",
        "    rows.append({\"model\": name, \"path\": path, \"test_acc\": float(ta)})\n",
        "\n",
        "df = pd.DataFrame(rows).sort_values(\"test_acc\", ascending=False)\n",
        "print(df.to_string(index=False))\n",
        "\n",
        "# Guarda el mejor como best_model.keras\n",
        "best_row = df.iloc[0]\n",
        "best = keras.models.load_model(best_row[\"path\"])\n",
        "best.save(\"models/best_model.keras\")\n",
        "print(f\"\\n✅ Mejor modelo: {best_row['model']} (test_acc={best_row['test_acc']:.4f})\")\n",
        "print(\"💾 Guardado como: models/best_model.keras\")\n"
      ],
      "metadata": {
        "colab": {
          "base_uri": "https://localhost:8080/"
        },
        "id": "xRO84Mx4tSJi",
        "outputId": "e2c1a2d6-9107-4fa3-ae76-ff628c4a9372"
      },
      "execution_count": 25,
      "outputs": [
        {
          "output_type": "stream",
          "name": "stdout",
          "text": [
            "         model                           path  test_acc\n",
            "EfficientNetB0 models/best_efficientnet.keras  0.928889\n",
            "   MobileNetV2    models/best_mobilenet.keras  0.924444\n",
            "\n",
            "✅ Mejor modelo: EfficientNetB0 (test_acc=0.9289)\n",
            "💾 Guardado como: models/best_model.keras\n"
          ]
        }
      ]
    }
  ]
}